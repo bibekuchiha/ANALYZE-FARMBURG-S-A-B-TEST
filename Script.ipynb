{
  "nbformat": 4,
  "nbformat_minor": 0,
  "metadata": {
    "colab": {
      "name": "Script.ipynb",
      "provenance": [],
      "toc_visible": true
    },
    "kernelspec": {
      "name": "python3",
      "display_name": "Python 3"
    }
  },
  "cells": [
    {
      "cell_type": "markdown",
      "metadata": {
        "id": "tZLWFIcxngiN",
        "colab_type": "text"
      },
      "source": [
        "#ANALYZE FARMBURG'S A/B TEST\n",
        "Brian is a Product Manager at FarmBurg, a company that makes a farming simulation social network game. In the FarmBurg game, you can plow, plant, and harvest different crops.\n",
        "\n",
        "Today, you will be acting as Brian’s data analyst for an A/B Test that he has been conducting.\n",
        "\n",
        "Brian tells you that he ran an A/B test with three different groups: A, B, and C. You’re kind of busy today, so you don’t ask too many questions about the differences between A, B, and C. Maybe they were shown three different versions of an ad. Who cares?\n",
        "\n",
        "(HINT: you will care later)\n",
        "\n",
        "Brian gives you a CSV of results called clicks.csv. It has the following columns:\n",
        "\n",
        "* user_id: a unique id for each visitor to the FarmBurg site\n",
        "* ab_test_group: either A, B, or C depending on which group the visitor was assigned to\n",
        "* click_day: only filled in if the user clicked on a link to purchase"
      ]
    },
    {
      "cell_type": "code",
      "metadata": {
        "id": "sla3lVaRnfM-",
        "colab_type": "code",
        "colab": {
          "base_uri": "https://localhost:8080/",
          "height": 204
        },
        "outputId": "c271a769-eb04-491d-b98e-a27bb223e65d"
      },
      "source": [
        "#Getting Familiar with FarmBurg\n",
        "import pandas as pd\n",
        "\n",
        "#loading dataset\n",
        "df = pd.read_csv('clicks.csv')\n",
        "#Examine the first few rows of df\n",
        "df.head()"
      ],
      "execution_count": 3,
      "outputs": [
        {
          "output_type": "execute_result",
          "data": {
            "text/html": [
              "<div>\n",
              "<style scoped>\n",
              "    .dataframe tbody tr th:only-of-type {\n",
              "        vertical-align: middle;\n",
              "    }\n",
              "\n",
              "    .dataframe tbody tr th {\n",
              "        vertical-align: top;\n",
              "    }\n",
              "\n",
              "    .dataframe thead th {\n",
              "        text-align: right;\n",
              "    }\n",
              "</style>\n",
              "<table border=\"1\" class=\"dataframe\">\n",
              "  <thead>\n",
              "    <tr style=\"text-align: right;\">\n",
              "      <th></th>\n",
              "      <th>user_id</th>\n",
              "      <th>group</th>\n",
              "      <th>click_day</th>\n",
              "    </tr>\n",
              "  </thead>\n",
              "  <tbody>\n",
              "    <tr>\n",
              "      <th>0</th>\n",
              "      <td>8e27bf9a-5b6e-41ed-801a-a59979c0ca98</td>\n",
              "      <td>A</td>\n",
              "      <td>NaN</td>\n",
              "    </tr>\n",
              "    <tr>\n",
              "      <th>1</th>\n",
              "      <td>eb89e6f0-e682-4f79-99b1-161cc1c096f1</td>\n",
              "      <td>A</td>\n",
              "      <td>NaN</td>\n",
              "    </tr>\n",
              "    <tr>\n",
              "      <th>2</th>\n",
              "      <td>7119106a-7a95-417b-8c4c-092c12ee5ef7</td>\n",
              "      <td>A</td>\n",
              "      <td>NaN</td>\n",
              "    </tr>\n",
              "    <tr>\n",
              "      <th>3</th>\n",
              "      <td>e53781ff-ff7a-4fcd-af1a-adba02b2b954</td>\n",
              "      <td>A</td>\n",
              "      <td>NaN</td>\n",
              "    </tr>\n",
              "    <tr>\n",
              "      <th>4</th>\n",
              "      <td>02d48cf1-1ae6-40b3-9d8b-8208884a0904</td>\n",
              "      <td>A</td>\n",
              "      <td>Saturday</td>\n",
              "    </tr>\n",
              "  </tbody>\n",
              "</table>\n",
              "</div>"
            ],
            "text/plain": [
              "                                user_id group click_day\n",
              "0  8e27bf9a-5b6e-41ed-801a-a59979c0ca98     A       NaN\n",
              "1  eb89e6f0-e682-4f79-99b1-161cc1c096f1     A       NaN\n",
              "2  7119106a-7a95-417b-8c4c-092c12ee5ef7     A       NaN\n",
              "3  e53781ff-ff7a-4fcd-af1a-adba02b2b954     A       NaN\n",
              "4  02d48cf1-1ae6-40b3-9d8b-8208884a0904     A  Saturday"
            ]
          },
          "metadata": {
            "tags": []
          },
          "execution_count": 3
        }
      ]
    },
    {
      "cell_type": "markdown",
      "metadata": {
        "id": "YoH4ehWDoP28",
        "colab_type": "text"
      },
      "source": [
        "#Calculating Purchase Rates\n",
        "We need to help Brian determine whether or not there is a significant difference in the percent of users who purchased the upgrade package among groups A, B, and C."
      ]
    },
    {
      "cell_type": "markdown",
      "metadata": {
        "id": "QL3N2WIdoa-H",
        "colab_type": "text"
      },
      "source": [
        "Define a new column called is_purchase which is \"Purchase\" if click_day is not None and \"No Purchase\" if click_day is None. This will tell us if each visitor clicked on the Purchase link."
      ]
    },
    {
      "cell_type": "code",
      "metadata": {
        "id": "TFg37pDpntxb",
        "colab_type": "code",
        "colab": {}
      },
      "source": [
        "df['is_purchase'] = df.click_day.apply(\n",
        "  lambda x: 'Purchase' if pd.notnull(x) else 'No Purchase'\n",
        ")"
      ],
      "execution_count": 4,
      "outputs": []
    },
    {
      "cell_type": "code",
      "metadata": {
        "id": "DNiDWwhyoidN",
        "colab_type": "code",
        "colab": {
          "base_uri": "https://localhost:8080/",
          "height": 136
        },
        "outputId": "026d182b-8b73-43e0-94be-ae2e65d827e1"
      },
      "source": [
        "#We want to count the number of users who made a purchase from each group. \n",
        "purchase_counts = df.groupby(['group', 'is_purchase'])\\\n",
        "\t.user_id.count().reset_index()\n",
        "print(purchase_counts)"
      ],
      "execution_count": 6,
      "outputs": [
        {
          "output_type": "stream",
          "text": [
            "  group  is_purchase  user_id\n",
            "0     A  No Purchase     1350\n",
            "1     A     Purchase      316\n",
            "2     B  No Purchase     1483\n",
            "3     B     Purchase      183\n",
            "4     C  No Purchase     1583\n",
            "5     C     Purchase       83\n"
          ],
          "name": "stdout"
        }
      ]
    },
    {
      "cell_type": "markdown",
      "metadata": {
        "id": "LhsKVdzWosmq",
        "colab_type": "text"
      },
      "source": [
        "#Performing a Significance Test"
      ]
    },
    {
      "cell_type": "markdown",
      "metadata": {
        "id": "qH0n3haLoy9F",
        "colab_type": "text"
      },
      "source": [
        "The data from this A/B test is categorical data.\n",
        "\n",
        "Why?\n",
        "\n",
        "Because a user’s response can be either \"Purchase\" or \"No Purchase\".\n",
        "\n",
        "There are more than 2 conditions: users could be in either Group A, Group B, or Group C.\n",
        "\n",
        "##Which type of test should we use?\n",
        "We  should perform a chi-squared test to determine if the differences between Groups A, B, and C are significant."
      ]
    },
    {
      "cell_type": "code",
      "metadata": {
        "id": "MibMTwKmot76",
        "colab_type": "code",
        "colab": {
          "base_uri": "https://localhost:8080/",
          "height": 34
        },
        "outputId": "a661c192-27c8-46ff-df99-65e7e7234ef9"
      },
      "source": [
        "from scipy.stats import chi2_contingency\n",
        "\n",
        "#The function chi2_contingency accepts one argument: a contingency table.\n",
        "'''contingency = [[A_purchases, A_not_purchases],\n",
        "               [B_purchases, B_not_purchases],\n",
        "               [C_purchases, C_not_purchases]]'''\n",
        "contingency = [[316, 1350],\n",
        "           [183, 1483],\n",
        "           [83, 1583]]\n",
        "chi2_stat, pvalue, dof, t = chi2_contingency(contingency)\n",
        "\n",
        "print(pvalue)\n",
        "\n"
      ],
      "execution_count": 7,
      "outputs": [
        {
          "output_type": "stream",
          "text": [
            "2.4126213546684264e-35\n"
          ],
          "name": "stdout"
        }
      ]
    },
    {
      "cell_type": "markdown",
      "metadata": {
        "id": "pQ2S8X8vpV5C",
        "colab_type": "text"
      },
      "source": [
        "Is pvalue less than 0.05? If so, there is a significant difference between the three groups."
      ]
    },
    {
      "cell_type": "code",
      "metadata": {
        "id": "HWmIm3NGpWxM",
        "colab_type": "code",
        "colab": {}
      },
      "source": [
        "# Yes pvalue is less the 0.05\n",
        "is_significant = True"
      ],
      "execution_count": 8,
      "outputs": []
    },
    {
      "cell_type": "markdown",
      "metadata": {
        "id": "F-eJd2Sqpf7F",
        "colab_type": "text"
      },
      "source": [
        "#Calculating Necessary Purchase Rates\n",
        "Your day is a little less busy than you expected, so you decide to ask Brian about his test.\n",
        "\n",
        "\n",
        "\n",
        "```\n",
        "You: Hey Brian! What was that test you were running anyway?\n",
        "\n",
        "Brian: It was awesome! We are trying to get users to purchase a small FarmBurg upgrade package. It’s called a microtransaction. We’re not sure how much to charge for it, so we tested three different price points: $0.99, $1.99, and $4.99. It looks like significantly more people bought the upgrade package for $0.99, so I guess that’s what we’ll charge.\n",
        "\n",
        "You: Oh no! I should have asked you this before we did that chi-squared test. I don’t think that this was the right test at all. It’s true that more people wanted to purchase the upgrade at $0.99; you probably expected that. What we really want to know is if each price point allows us to make enough money that we can exceed some target goal. Brian, how much do you think it cost to build this feature?\n",
        "\n",
        "Brian: Hmm. I guess that we need to generate a minimum of $1000 per week in order to justify this project.\n",
        "\n",
        "You: We have some work to do!\n",
        "```\n",
        "\n"
      ]
    },
    {
      "cell_type": "code",
      "metadata": {
        "id": "l-2KGK66psfZ",
        "colab_type": "code",
        "colab": {
          "base_uri": "https://localhost:8080/",
          "height": 34
        },
        "outputId": "7fca8b16-120d-47a7-d206-6cec35bda367"
      },
      "source": [
        "#How many visitors came to the site this week?\n",
        "num_visits = len(df)\n",
        "print(num_visits)"
      ],
      "execution_count": 9,
      "outputs": [
        {
          "output_type": "stream",
          "text": [
            "4998\n"
          ],
          "name": "stdout"
        }
      ]
    },
    {
      "cell_type": "markdown",
      "metadata": {
        "id": "JPxKOmMepn3d",
        "colab_type": "text"
      },
      "source": [
        "calculate the percent of visitors who would need to purchase the upgrade package at each price point ($0.99, $1.99, $4.99) in order to generate Brian’s target of $1,000 per week.\n",
        "\n",
        "Save the results to:\n",
        "\n",
        "p_clicks_099\n",
        "\n",
        "p_clicks_199\n",
        "\n",
        "p_clicks_499\n",
        "\n",
        "Note that for higher price points, you’ll need to sell fewer upgrade packages in order to meet your target."
      ]
    },
    {
      "cell_type": "code",
      "metadata": {
        "id": "1Sq9q6oWp8Mk",
        "colab_type": "code",
        "colab": {
          "base_uri": "https://localhost:8080/",
          "height": 68
        },
        "outputId": "ffb5664d-9ed2-4927-b03e-6dda3f923211"
      },
      "source": [
        "p_clicks_099 = (1000 / 0.99) / num_visits\n",
        "p_clicks_199 = (1000 / 1.99) / num_visits\n",
        "p_clicks_499 = (1000 / 4.99) / num_visits\n",
        "\n",
        "print(p_clicks_099)\n",
        "print(p_clicks_199)\n",
        "print(p_clicks_499)"
      ],
      "execution_count": 10,
      "outputs": [
        {
          "output_type": "stream",
          "text": [
            "0.20210104243717691\n",
            "0.10054272965467594\n",
            "0.040096198800161346\n"
          ],
          "name": "stdout"
        }
      ]
    },
    {
      "cell_type": "markdown",
      "metadata": {
        "id": "ieHwsKIcqSPW",
        "colab_type": "text"
      },
      "source": [
        "#Performing a Significance Test II\n",
        "\n",
        "We want to see if the percent of Group A that purchased an upgrade package is significantly greater than p_clicks_099 (the percent of visitors who need to buy an upgrade package at $0.99 in order to make our target of $1,000).\n",
        "\n",
        "We are comparing a single set of samples to a target. Our data is still categorical."
      ]
    },
    {
      "cell_type": "markdown",
      "metadata": {
        "id": "Usk2Z139qaj_",
        "colab_type": "text"
      },
      "source": [
        "We should use a binomial test on each group to see if the observed purchase rate is significantly greater than what we need in order to generate at least $1,000 per week."
      ]
    },
    {
      "cell_type": "markdown",
      "metadata": {
        "id": "V3Kh888iqlKh",
        "colab_type": "text"
      },
      "source": [
        "For Group A ($0.99 price point), perform a binom_test to see if the observed purchase rate is significantly greater than p_clicks_099.\n",
        "\n",
        "* x will be the number of purchases for Group A\n",
        "* n will be the total number of visitors assigned Group A\n",
        "* p will be the target percent of purchases for that price point (calculated above as p_clicks_099)\n",
        "\n",
        "Save the results to pvalueA."
      ]
    },
    {
      "cell_type": "code",
      "metadata": {
        "id": "Nb1fETyjqbsA",
        "colab_type": "code",
        "colab": {
          "base_uri": "https://localhost:8080/",
          "height": 34
        },
        "outputId": "438cbc96-44dd-4955-d2d1-666f9a14d261"
      },
      "source": [
        "from scipy.stats import binom_test\n",
        "pvalueA = binom_test(316,1666,0.202101042437)\n",
        "print(pvalueA)"
      ],
      "execution_count": 11,
      "outputs": [
        {
          "output_type": "stream",
          "text": [
            "0.21112872994035697\n"
          ],
          "name": "stdout"
        }
      ]
    },
    {
      "cell_type": "markdown",
      "metadata": {
        "id": "EduKpw3FqsB1",
        "colab_type": "text"
      },
      "source": [
        "For Group B ($1.99 price point), perform a binom_test to see if the observed purchase rate is significantly greater than p_clicks_199.\n",
        "\n",
        "Save the results to pvalueB."
      ]
    },
    {
      "cell_type": "code",
      "metadata": {
        "id": "q3QXzJxMqu4F",
        "colab_type": "code",
        "colab": {
          "base_uri": "https://localhost:8080/",
          "height": 34
        },
        "outputId": "21fe3e86-cd34-40eb-b3fa-3708e65b03a7"
      },
      "source": [
        "pvalueB = binom_test(183, 1666,0.100542729655)\n",
        "print(pvalueB)"
      ],
      "execution_count": 13,
      "outputs": [
        {
          "output_type": "stream",
          "text": [
            "0.2066020924667118\n"
          ],
          "name": "stdout"
        }
      ]
    },
    {
      "cell_type": "markdown",
      "metadata": {
        "id": "Ai_JGoyRqz4n",
        "colab_type": "text"
      },
      "source": [
        "For Group C ($4.99 price point), perform a binom_test to see if the observed purchase rate is significantly greater than p_clicks_499.\n",
        "\n",
        "Save the results to pvalueC."
      ]
    },
    {
      "cell_type": "code",
      "metadata": {
        "id": "EWM8yDa2q0cV",
        "colab_type": "code",
        "colab": {
          "base_uri": "https://localhost:8080/",
          "height": 34
        },
        "outputId": "82e17cb4-fa96-4e98-f951-ac5de6553036"
      },
      "source": [
        "pvalueC = binom_test(83, 1666,0.0400961988002)\n",
        "print(pvalueC)"
      ],
      "execution_count": 14,
      "outputs": [
        {
          "output_type": "stream",
          "text": [
            "0.045623672477372056\n"
          ],
          "name": "stdout"
        }
      ]
    },
    {
      "cell_type": "code",
      "metadata": {
        "id": "djcod-Idq25X",
        "colab_type": "code",
        "colab": {}
      },
      "source": [
        "# $4.99 price should Brian charge for the upgrade package\n",
        "final_answer = 4.99"
      ],
      "execution_count": null,
      "outputs": []
    }
  ]
}